{
 "cells": [
  {
   "cell_type": "code",
   "execution_count": 90,
   "metadata": {},
   "outputs": [],
   "source": [
    "import torch\n",
    "import numpy as np\n",
    "from tqdm import tqdm_notebook as tqdm\n",
    "from scipy.sparse import rand as sprand"
   ]
  },
  {
   "cell_type": "code",
   "execution_count": 29,
   "metadata": {},
   "outputs": [],
   "source": [
    "# make up some random sparse data\n",
    "n_users = 1000\n",
    "n_items = 1000\n",
    "ratings = sprand(n_users, n_items, density=0.01, format='csr')\n",
    "ratings.data = (np.random.randint(1, 5, size=ratings.nnz).astype(np.float64))\n",
    "ratings = ratings.toarray()"
   ]
  },
  {
   "cell_type": "code",
   "execution_count": 153,
   "metadata": {},
   "outputs": [],
   "source": [
    "class MatrixFactorization(torch.nn.Module):\n",
    "    def __init__(self, n_users, n_items, n_factors=20):\n",
    "        super().__init__()\n",
    "        self.user_factors = torch.nn.Embedding(n_users, n_factors, sparse=True)\n",
    "        self.item_factors = torch.nn.Embedding(n_items, n_factors, sparse=True)\n",
    "#         self.user_biases = torch.nn.Embedding(n_users, 1, sparse=True)\n",
    "#         self.item_biases = torch.nn.Embedding(n_items, 1, sparse=True)\n",
    "    \n",
    "    def forward(self, user, item):\n",
    "#         user_features = self.user_factors(user) + self.user_biases(user)\n",
    "#         item_features = self.item_factors(item) + self.item_biases(item)\n",
    "#         rating = torch.mm(user_features, item_features.transpose(0,1)).squeeze(-1)\n",
    "#         return torch.sigmoid(rating) * 5.0\n",
    "        return torch.mm(self.user_factors(user), self.item_factors(item).transpose(0,1)).squeeze(-1)"
   ]
  },
  {
   "cell_type": "code",
   "execution_count": 154,
   "metadata": {},
   "outputs": [],
   "source": [
    "mf = MatrixFactorization(n_users, n_items, n_factors=20)\n",
    "criterion = torch.nn.MSELoss()\n",
    "optimizer = torch.optim.Adagrad(mf.parameters(), lr=1e-3)"
   ]
  },
  {
   "cell_type": "code",
   "execution_count": 157,
   "metadata": {},
   "outputs": [],
   "source": [
    "# random shuffle\n",
    "rows, cols = ratings.nonzero()\n",
    "p = np.random.permutation(len(rows))\n",
    "rows, cols = rows[p], cols[p]"
   ]
  },
  {
   "cell_type": "code",
   "execution_count": 158,
   "metadata": {},
   "outputs": [
    {
     "data": {
      "application/vnd.jupyter.widget-view+json": {
       "model_id": "703da6e8bf1c4eec8792686728e50406",
       "version_major": 2,
       "version_minor": 0
      },
      "text/plain": [
       "HBox(children=(IntProgress(value=0, description='Training', max=10000, style=ProgressStyle(description_width='…"
      ]
     },
     "metadata": {},
     "output_type": "display_data"
    },
    {
     "name": "stdout",
     "output_type": "stream",
     "text": [
      "\n"
     ]
    }
   ],
   "source": [
    "t_loss = 0.0\n",
    "\n",
    "trange = tqdm(enumerate(zip(rows, cols)), total=rows.shape[0], desc='Training')\n",
    "\n",
    "for idx, (row, col) in trange:\n",
    "    rating = torch.FloatTensor([ratings[row, col]])\n",
    "    row = torch.LongTensor([row])\n",
    "    col = torch.LongTensor([col])\n",
    "    \n",
    "    pred = mf(row, col)\n",
    "    loss = criterion(pred, rating)\n",
    "    \n",
    "    t_loss += loss.item()\n",
    "\n",
    "    trange.set_postfix(loss=\"{:.5f}\".format(t_loss/(idx+1)))\n",
    "    \n",
    "    loss.backward()\n",
    "    optimizer.step()"
   ]
  }
 ],
 "metadata": {
  "kernelspec": {
   "display_name": "Python 3",
   "language": "python",
   "name": "python3"
  },
  "language_info": {
   "codemirror_mode": {
    "name": "ipython",
    "version": 3
   },
   "file_extension": ".py",
   "mimetype": "text/x-python",
   "name": "python",
   "nbconvert_exporter": "python",
   "pygments_lexer": "ipython3",
   "version": "3.6.8"
  }
 },
 "nbformat": 4,
 "nbformat_minor": 2
}
